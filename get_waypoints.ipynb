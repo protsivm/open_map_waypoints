{
 "cells": [
  {
   "cell_type": "code",
   "execution_count": 1,
   "id": "2aca4225-e8ba-4169-b82f-7346b8a1724f",
   "metadata": {},
   "outputs": [
    {
     "name": "stdout",
     "output_type": "stream",
     "text": [
      "Map has been saved as 'osm_relation_map.html'\n",
      "DataFrame has been saved as 'osm_relation_coordinates.csv'\n"
     ]
    }
   ],
   "source": [
    "import requests\n",
    "import folium\n",
    "import pandas as pd\n",
    "\n",
    "# List of relation IDs\n",
    "relation_ids = [1439251, 1439252, 1439253, 1439254, 1439255]\n",
    "\n",
    "# Overpass API URL\n",
    "overpass_url = \"https://overpass-api.de/api/interpreter\"\n",
    "\n",
    "# Initialize a map\n",
    "m = folium.Map(location=[0, 0], zoom_start=2)  # Placeholder coordinates; will update later\n",
    "\n",
    "# List to store coordinates of each polyline\n",
    "polyline_coordinates = []\n",
    "\n",
    "# Loop through each relation ID\n",
    "for relation_id in relation_ids:\n",
    "    overpass_query = f\"\"\"\n",
    "    [out:json];\n",
    "    relation({relation_id});\n",
    "    out body;\n",
    "    >;\n",
    "    out skel qt;\n",
    "    \"\"\"\n",
    "\n",
    "    # Fetch data from Overpass API\n",
    "    response = requests.post(overpass_url, data={\"data\": overpass_query})\n",
    "    if response.status_code != 200:\n",
    "        print(f\"Error fetching data for relation {relation_id}: {response.status_code}\")\n",
    "        continue\n",
    "\n",
    "    # Parse the JSON response\n",
    "    data = response.json()\n",
    "\n",
    "    # Extract nodes and their coordinates\n",
    "    nodes = {elem[\"id\"]: (elem[\"lat\"], elem[\"lon\"]) for elem in data[\"elements\"] if elem[\"type\"] == \"node\"}\n",
    "\n",
    "    # Extract ways (lines connecting nodes)\n",
    "    ways = [elem[\"nodes\"] for elem in data[\"elements\"] if elem[\"type\"] == \"way\"]\n",
    "\n",
    "    # If nodes are found, update the map\n",
    "    if nodes:\n",
    "        # Center the map at the first node of the first relation\n",
    "        if len(m.location) == 2 and m.location == [0, 0]:\n",
    "            first_node = list(nodes.values())[0]\n",
    "            m.location = first_node\n",
    "            m.zoom_start = 6\n",
    "\n",
    "        # Plot ways on the map and store coordinates\n",
    "        for way in ways:\n",
    "            coordinates = [(nodes[node_id][0], nodes[node_id][1]) for node_id in way if node_id in nodes]\n",
    "            folium.PolyLine(coordinates, color=\"orange\", weight=2.5).add_to(m)\n",
    "\n",
    "            # Store coordinates in the list\n",
    "            polyline_coordinates.append({\n",
    "                \"relation_id\": relation_id,\n",
    "                \"coordinates\": coordinates\n",
    "            })\n",
    "    else:\n",
    "        print(f\"No nodes found for relation {relation_id}.\")\n",
    "\n",
    "# Save the map as HTML\n",
    "m.save(\"osm_relation_map.html\")\n",
    "print(\"Map has been saved as 'osm_relation_map.html'\")\n",
    "\n",
    "# Convert the list of polyline coordinates to a DataFrame\n",
    "df = pd.DataFrame(polyline_coordinates)\n",
    "\n",
    "# Save DataFrame to CSV\n",
    "df.to_csv(\"osm_relation_coordinates.csv\", index=False)\n",
    "print(\"DataFrame has been saved as 'osm_relation_coordinates.csv'\")"
   ]
  },
  {
   "cell_type": "code",
   "execution_count": null,
   "id": "eff818d1-7eae-460a-b5d9-1f2f31423161",
   "metadata": {},
   "outputs": [],
   "source": []
  }
 ],
 "metadata": {
  "kernelspec": {
   "display_name": "Python 3 (ipykernel)",
   "language": "python",
   "name": "python3"
  },
  "language_info": {
   "codemirror_mode": {
    "name": "ipython",
    "version": 3
   },
   "file_extension": ".py",
   "mimetype": "text/x-python",
   "name": "python",
   "nbconvert_exporter": "python",
   "pygments_lexer": "ipython3",
   "version": "3.10.14"
  }
 },
 "nbformat": 4,
 "nbformat_minor": 5
}
